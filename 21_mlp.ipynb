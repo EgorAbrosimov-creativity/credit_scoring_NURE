{
 "cells": [
  {
   "cell_type": "markdown",
   "id": "0e2fbabd",
   "metadata": {},
   "source": [
    "# Imports"
   ]
  },
  {
   "cell_type": "code",
   "execution_count": 97,
   "id": "c4f646b6",
   "metadata": {},
   "outputs": [],
   "source": [
    "import pandas as pd\n",
    "from tensorflow.keras.models import Sequential\n",
    "from tensorflow.keras.layers import Dense\n",
    "from tensorflow.keras.metrics import Recall\n",
    "import tensorflow as tf\n",
    "\n",
    "from sklearn.preprocessing import StandardScaler\n",
    "\n",
    "import pickle as pkl\n",
    "\n",
    "from sklearn.metrics import recall_score, accuracy_score"
   ]
  },
  {
   "cell_type": "markdown",
   "id": "922b748e",
   "metadata": {},
   "source": [
    "# Load data"
   ]
  },
  {
   "cell_type": "code",
   "execution_count": 2,
   "id": "b0811cbd",
   "metadata": {},
   "outputs": [
    {
     "data": {
      "text/html": [
       "<div>\n",
       "<style scoped>\n",
       "    .dataframe tbody tr th:only-of-type {\n",
       "        vertical-align: middle;\n",
       "    }\n",
       "\n",
       "    .dataframe tbody tr th {\n",
       "        vertical-align: top;\n",
       "    }\n",
       "\n",
       "    .dataframe thead th {\n",
       "        text-align: right;\n",
       "    }\n",
       "</style>\n",
       "<table border=\"1\" class=\"dataframe\">\n",
       "  <thead>\n",
       "    <tr style=\"text-align: right;\">\n",
       "      <th></th>\n",
       "      <th>SeriousDlqin2yrs</th>\n",
       "      <th>RevolvingUtilizationOfUnsecuredLines</th>\n",
       "      <th>age</th>\n",
       "      <th>NumberOfTime30-59DaysPastDueNotWorse</th>\n",
       "      <th>DebtRatio</th>\n",
       "      <th>MonthlyIncome</th>\n",
       "      <th>NumberOfOpenCreditLinesAndLoans</th>\n",
       "      <th>NumberOfTimes90DaysLate</th>\n",
       "      <th>NumberRealEstateLoansOrLines</th>\n",
       "      <th>NumberOfTime60-89DaysPastDueNotWorse</th>\n",
       "      <th>NumberOfDependents</th>\n",
       "      <th>isna_MonthlyIncome</th>\n",
       "      <th>isna_NumberOfDependents</th>\n",
       "    </tr>\n",
       "  </thead>\n",
       "  <tbody>\n",
       "    <tr>\n",
       "      <th>0</th>\n",
       "      <td>0</td>\n",
       "      <td>0.479144</td>\n",
       "      <td>28</td>\n",
       "      <td>0</td>\n",
       "      <td>0.749607</td>\n",
       "      <td>2543.0</td>\n",
       "      <td>9</td>\n",
       "      <td>0</td>\n",
       "      <td>2</td>\n",
       "      <td>2</td>\n",
       "      <td>0.0</td>\n",
       "      <td>True</td>\n",
       "      <td>True</td>\n",
       "    </tr>\n",
       "    <tr>\n",
       "      <th>1</th>\n",
       "      <td>0</td>\n",
       "      <td>0.045562</td>\n",
       "      <td>59</td>\n",
       "      <td>2</td>\n",
       "      <td>0.921104</td>\n",
       "      <td>4600.0</td>\n",
       "      <td>23</td>\n",
       "      <td>0</td>\n",
       "      <td>1</td>\n",
       "      <td>0</td>\n",
       "      <td>0.0</td>\n",
       "      <td>True</td>\n",
       "      <td>True</td>\n",
       "    </tr>\n",
       "    <tr>\n",
       "      <th>2</th>\n",
       "      <td>0</td>\n",
       "      <td>0.046039</td>\n",
       "      <td>43</td>\n",
       "      <td>0</td>\n",
       "      <td>0.002092</td>\n",
       "      <td>5734.0</td>\n",
       "      <td>2</td>\n",
       "      <td>0</td>\n",
       "      <td>0</td>\n",
       "      <td>0</td>\n",
       "      <td>1.0</td>\n",
       "      <td>True</td>\n",
       "      <td>True</td>\n",
       "    </tr>\n",
       "    <tr>\n",
       "      <th>3</th>\n",
       "      <td>0</td>\n",
       "      <td>0.000043</td>\n",
       "      <td>66</td>\n",
       "      <td>2</td>\n",
       "      <td>1196.000000</td>\n",
       "      <td>5400.0</td>\n",
       "      <td>9</td>\n",
       "      <td>0</td>\n",
       "      <td>1</td>\n",
       "      <td>0</td>\n",
       "      <td>0.0</td>\n",
       "      <td>True</td>\n",
       "      <td>True</td>\n",
       "    </tr>\n",
       "    <tr>\n",
       "      <th>4</th>\n",
       "      <td>0</td>\n",
       "      <td>0.556032</td>\n",
       "      <td>49</td>\n",
       "      <td>0</td>\n",
       "      <td>0.496295</td>\n",
       "      <td>8500.0</td>\n",
       "      <td>17</td>\n",
       "      <td>0</td>\n",
       "      <td>1</td>\n",
       "      <td>0</td>\n",
       "      <td>0.0</td>\n",
       "      <td>True</td>\n",
       "      <td>True</td>\n",
       "    </tr>\n",
       "  </tbody>\n",
       "</table>\n",
       "</div>"
      ],
      "text/plain": [
       "   SeriousDlqin2yrs  RevolvingUtilizationOfUnsecuredLines  age  \\\n",
       "0                 0                              0.479144   28   \n",
       "1                 0                              0.045562   59   \n",
       "2                 0                              0.046039   43   \n",
       "3                 0                              0.000043   66   \n",
       "4                 0                              0.556032   49   \n",
       "\n",
       "   NumberOfTime30-59DaysPastDueNotWorse    DebtRatio  MonthlyIncome  \\\n",
       "0                                     0     0.749607         2543.0   \n",
       "1                                     2     0.921104         4600.0   \n",
       "2                                     0     0.002092         5734.0   \n",
       "3                                     2  1196.000000         5400.0   \n",
       "4                                     0     0.496295         8500.0   \n",
       "\n",
       "   NumberOfOpenCreditLinesAndLoans  NumberOfTimes90DaysLate  \\\n",
       "0                                9                        0   \n",
       "1                               23                        0   \n",
       "2                                2                        0   \n",
       "3                                9                        0   \n",
       "4                               17                        0   \n",
       "\n",
       "   NumberRealEstateLoansOrLines  NumberOfTime60-89DaysPastDueNotWorse  \\\n",
       "0                             2                                     2   \n",
       "1                             1                                     0   \n",
       "2                             0                                     0   \n",
       "3                             1                                     0   \n",
       "4                             1                                     0   \n",
       "\n",
       "   NumberOfDependents  isna_MonthlyIncome  isna_NumberOfDependents  \n",
       "0                 0.0                True                     True  \n",
       "1                 0.0                True                     True  \n",
       "2                 1.0                True                     True  \n",
       "3                 0.0                True                     True  \n",
       "4                 0.0                True                     True  "
      ]
     },
     "execution_count": 2,
     "metadata": {},
     "output_type": "execute_result"
    }
   ],
   "source": [
    "df_train = pd.read_csv('data/ready/train_rf.csv')\n",
    "df_train.head()"
   ]
  },
  {
   "cell_type": "code",
   "execution_count": 3,
   "id": "5e808ffc",
   "metadata": {},
   "outputs": [
    {
     "data": {
      "text/html": [
       "<div>\n",
       "<style scoped>\n",
       "    .dataframe tbody tr th:only-of-type {\n",
       "        vertical-align: middle;\n",
       "    }\n",
       "\n",
       "    .dataframe tbody tr th {\n",
       "        vertical-align: top;\n",
       "    }\n",
       "\n",
       "    .dataframe thead th {\n",
       "        text-align: right;\n",
       "    }\n",
       "</style>\n",
       "<table border=\"1\" class=\"dataframe\">\n",
       "  <thead>\n",
       "    <tr style=\"text-align: right;\">\n",
       "      <th></th>\n",
       "      <th>SeriousDlqin2yrs</th>\n",
       "      <th>RevolvingUtilizationOfUnsecuredLines</th>\n",
       "      <th>age</th>\n",
       "      <th>NumberOfTime30-59DaysPastDueNotWorse</th>\n",
       "      <th>DebtRatio</th>\n",
       "      <th>MonthlyIncome</th>\n",
       "      <th>NumberOfOpenCreditLinesAndLoans</th>\n",
       "      <th>NumberOfTimes90DaysLate</th>\n",
       "      <th>NumberRealEstateLoansOrLines</th>\n",
       "      <th>NumberOfTime60-89DaysPastDueNotWorse</th>\n",
       "      <th>NumberOfDependents</th>\n",
       "      <th>isna_MonthlyIncome</th>\n",
       "      <th>isna_NumberOfDependents</th>\n",
       "    </tr>\n",
       "  </thead>\n",
       "  <tbody>\n",
       "    <tr>\n",
       "      <th>0</th>\n",
       "      <td>0</td>\n",
       "      <td>1.922615</td>\n",
       "      <td>34</td>\n",
       "      <td>0</td>\n",
       "      <td>722.000000</td>\n",
       "      <td>5400.0</td>\n",
       "      <td>10</td>\n",
       "      <td>0</td>\n",
       "      <td>0</td>\n",
       "      <td>0</td>\n",
       "      <td>0.0</td>\n",
       "      <td>True</td>\n",
       "      <td>True</td>\n",
       "    </tr>\n",
       "    <tr>\n",
       "      <th>1</th>\n",
       "      <td>0</td>\n",
       "      <td>0.886104</td>\n",
       "      <td>75</td>\n",
       "      <td>1</td>\n",
       "      <td>0.489588</td>\n",
       "      <td>4321.0</td>\n",
       "      <td>15</td>\n",
       "      <td>0</td>\n",
       "      <td>2</td>\n",
       "      <td>0</td>\n",
       "      <td>1.0</td>\n",
       "      <td>True</td>\n",
       "      <td>True</td>\n",
       "    </tr>\n",
       "    <tr>\n",
       "      <th>2</th>\n",
       "      <td>0</td>\n",
       "      <td>0.223532</td>\n",
       "      <td>62</td>\n",
       "      <td>0</td>\n",
       "      <td>0.229667</td>\n",
       "      <td>8446.0</td>\n",
       "      <td>13</td>\n",
       "      <td>0</td>\n",
       "      <td>1</td>\n",
       "      <td>0</td>\n",
       "      <td>1.0</td>\n",
       "      <td>True</td>\n",
       "      <td>True</td>\n",
       "    </tr>\n",
       "    <tr>\n",
       "      <th>3</th>\n",
       "      <td>0</td>\n",
       "      <td>0.000000</td>\n",
       "      <td>71</td>\n",
       "      <td>0</td>\n",
       "      <td>2521.000000</td>\n",
       "      <td>5400.0</td>\n",
       "      <td>10</td>\n",
       "      <td>0</td>\n",
       "      <td>1</td>\n",
       "      <td>1</td>\n",
       "      <td>1.0</td>\n",
       "      <td>True</td>\n",
       "      <td>True</td>\n",
       "    </tr>\n",
       "    <tr>\n",
       "      <th>4</th>\n",
       "      <td>0</td>\n",
       "      <td>0.396280</td>\n",
       "      <td>51</td>\n",
       "      <td>0</td>\n",
       "      <td>0.592902</td>\n",
       "      <td>7550.0</td>\n",
       "      <td>12</td>\n",
       "      <td>0</td>\n",
       "      <td>2</td>\n",
       "      <td>0</td>\n",
       "      <td>4.0</td>\n",
       "      <td>True</td>\n",
       "      <td>True</td>\n",
       "    </tr>\n",
       "  </tbody>\n",
       "</table>\n",
       "</div>"
      ],
      "text/plain": [
       "   SeriousDlqin2yrs  RevolvingUtilizationOfUnsecuredLines  age  \\\n",
       "0                 0                              1.922615   34   \n",
       "1                 0                              0.886104   75   \n",
       "2                 0                              0.223532   62   \n",
       "3                 0                              0.000000   71   \n",
       "4                 0                              0.396280   51   \n",
       "\n",
       "   NumberOfTime30-59DaysPastDueNotWorse    DebtRatio  MonthlyIncome  \\\n",
       "0                                     0   722.000000         5400.0   \n",
       "1                                     1     0.489588         4321.0   \n",
       "2                                     0     0.229667         8446.0   \n",
       "3                                     0  2521.000000         5400.0   \n",
       "4                                     0     0.592902         7550.0   \n",
       "\n",
       "   NumberOfOpenCreditLinesAndLoans  NumberOfTimes90DaysLate  \\\n",
       "0                               10                        0   \n",
       "1                               15                        0   \n",
       "2                               13                        0   \n",
       "3                               10                        0   \n",
       "4                               12                        0   \n",
       "\n",
       "   NumberRealEstateLoansOrLines  NumberOfTime60-89DaysPastDueNotWorse  \\\n",
       "0                             0                                     0   \n",
       "1                             2                                     0   \n",
       "2                             1                                     0   \n",
       "3                             1                                     1   \n",
       "4                             2                                     0   \n",
       "\n",
       "   NumberOfDependents  isna_MonthlyIncome  isna_NumberOfDependents  \n",
       "0                 0.0                True                     True  \n",
       "1                 1.0                True                     True  \n",
       "2                 1.0                True                     True  \n",
       "3                 1.0                True                     True  \n",
       "4                 4.0                True                     True  "
      ]
     },
     "execution_count": 3,
     "metadata": {},
     "output_type": "execute_result"
    }
   ],
   "source": [
    "df_val = pd.read_csv('data/ready/val_rf.csv')\n",
    "df_val.head()"
   ]
  },
  {
   "cell_type": "markdown",
   "id": "948c1e47",
   "metadata": {},
   "source": [
    "# Scale"
   ]
  },
  {
   "cell_type": "code",
   "execution_count": 5,
   "id": "0e5bf6d1",
   "metadata": {},
   "outputs": [],
   "source": [
    "scaler = StandardScaler()\n",
    "\n",
    "cols_x = list(set(df_train) - set(['SeriousDlqin2yrs']))\n",
    "\n",
    "x_train = scaler.fit_transform(df_train[cols_x])"
   ]
  },
  {
   "cell_type": "code",
   "execution_count": 8,
   "id": "8a9593ae",
   "metadata": {},
   "outputs": [],
   "source": [
    "x_val = scaler.transform(df_val[cols_x])"
   ]
  },
  {
   "cell_type": "markdown",
   "id": "c0e501a7",
   "metadata": {},
   "source": [
    "# Model"
   ]
  },
  {
   "cell_type": "code",
   "execution_count": 43,
   "id": "3fff2fa0",
   "metadata": {},
   "outputs": [
    {
     "data": {
      "text/plain": [
       "{0: 0.06674285714285715, 1: 0.9332571428571429}"
      ]
     },
     "execution_count": 43,
     "metadata": {},
     "output_type": "execute_result"
    }
   ],
   "source": [
    "class_weights = (df_train['SeriousDlqin2yrs'].value_counts() / len(df_train)).to_dict()\n",
    "\n",
    "weight_0 = class_weights[0]\n",
    "class_weights[0] = class_weights[1]\n",
    "class_weights[1] = weight_0\n",
    "\n",
    "class_weights"
   ]
  },
  {
   "cell_type": "markdown",
   "id": "cad5f890",
   "metadata": {},
   "source": [
    "## Find good lr"
   ]
  },
  {
   "cell_type": "code",
   "execution_count": 44,
   "id": "32f5ef1f",
   "metadata": {},
   "outputs": [],
   "source": [
    "model = Sequential()\n",
    "\n",
    "model.add(\n",
    "        Dense(100\n",
    "          , input_shape=(len(cols_x),) \n",
    "          , activation='relu'\n",
    "            )\n",
    "         )\n",
    "\n",
    "model.add(Dense(100, activation='relu'))\n",
    "model.add(Dense(1, activation='sigmoid'))\n",
    "\n",
    "recall = Recall()\n",
    "model.compile(loss='binary_crossentropy',\n",
    "              optimizer=tf.keras.optimizers.Adam(learning_rate=1e-2),\n",
    "              metrics=[recall, 'accuracy'])"
   ]
  },
  {
   "cell_type": "code",
   "execution_count": 45,
   "id": "9093cd19",
   "metadata": {},
   "outputs": [
    {
     "name": "stdout",
     "output_type": "stream",
     "text": [
      "Epoch 1/10\n",
      "4375/4375 [==============================] - 3s 655us/step - loss: 0.0663 - recall_10: 0.6677 - accuracy: 0.8049 - val_loss: 0.5192 - val_recall_10: 0.7006 - val_accuracy: 0.8091\n",
      "Epoch 2/10\n",
      "4375/4375 [==============================] - 3s 633us/step - loss: 0.0649 - recall_10: 0.6671 - accuracy: 0.8264 - val_loss: 0.5132 - val_recall_10: 0.6456 - val_accuracy: 0.8396\n",
      "Epoch 3/10\n",
      "4375/4375 [==============================] - 3s 627us/step - loss: 0.0643 - recall_10: 0.6708 - accuracy: 0.8237 - val_loss: 0.5776 - val_recall_10: 0.7475 - val_accuracy: 0.7381\n",
      "Epoch 4/10\n",
      "4375/4375 [==============================] - 3s 627us/step - loss: 0.0636 - recall_10: 0.6628 - accuracy: 0.8289 - val_loss: 0.5616 - val_recall_10: 0.6538 - val_accuracy: 0.8467\n",
      "Epoch 5/10\n",
      "4375/4375 [==============================] - 3s 628us/step - loss: 0.0642 - recall_10: 0.7149 - accuracy: 0.7921 - val_loss: 0.4722 - val_recall_10: 0.6375 - val_accuracy: 0.8507\n",
      "Epoch 6/10\n",
      "4375/4375 [==============================] - 3s 627us/step - loss: 0.0634 - recall_10: 0.6876 - accuracy: 0.8166 - val_loss: 0.6229 - val_recall_10: 0.6904 - val_accuracy: 0.8136\n",
      "Epoch 7/10\n",
      "4375/4375 [==============================] - 3s 626us/step - loss: 0.0634 - recall_10: 0.6886 - accuracy: 0.8166 - val_loss: 0.5772 - val_recall_10: 0.7128 - val_accuracy: 0.8023\n",
      "Epoch 8/10\n",
      "4375/4375 [==============================] - 3s 626us/step - loss: 0.0643 - recall_10: 0.6861 - accuracy: 0.8201 - val_loss: 0.5489 - val_recall_10: 0.7088 - val_accuracy: 0.8049\n",
      "Epoch 9/10\n",
      "4375/4375 [==============================] - 3s 627us/step - loss: 0.0639 - recall_10: 0.6877 - accuracy: 0.8168 - val_loss: 0.5958 - val_recall_10: 0.7373 - val_accuracy: 0.7594\n",
      "Epoch 10/10\n",
      "4375/4375 [==============================] - 3s 626us/step - loss: 0.0633 - recall_10: 0.6907 - accuracy: 0.8191 - val_loss: 0.4713 - val_recall_10: 0.7006 - val_accuracy: 0.8103\n"
     ]
    },
    {
     "data": {
      "text/plain": [
       "<keras.callbacks.History at 0x7f97a4fb4850>"
      ]
     },
     "execution_count": 45,
     "metadata": {},
     "output_type": "execute_result"
    }
   ],
   "source": [
    "model.fit(x_train,df_train['SeriousDlqin2yrs'],epochs=10\n",
    "          , class_weight=class_weights\n",
    "          , validation_data=(x_val, df_val['SeriousDlqin2yrs']))"
   ]
  },
  {
   "cell_type": "code",
   "execution_count": 46,
   "id": "74e0e784",
   "metadata": {},
   "outputs": [
    {
     "name": "stdout",
     "output_type": "stream",
     "text": [
      "Epoch 1/10\n",
      "4375/4375 [==============================] - 3s 653us/step - loss: 0.0885 - recall_11: 0.5111 - accuracy: 0.4983 - val_loss: 0.7174 - val_recall_11: 1.0000 - val_accuracy: 0.0703\n",
      "Epoch 2/10\n",
      "4375/4375 [==============================] - 3s 626us/step - loss: 0.0882 - recall_11: 0.5034 - accuracy: 0.4928 - val_loss: 0.5851 - val_recall_11: 0.0000e+00 - val_accuracy: 0.9299\n",
      "Epoch 3/10\n",
      "4375/4375 [==============================] - 3s 627us/step - loss: 0.0868 - recall_11: 0.5238 - accuracy: 0.4827 - val_loss: 0.7169 - val_recall_11: 1.0000 - val_accuracy: 0.0701\n",
      "Epoch 4/10\n",
      "4375/4375 [==============================] - 3s 625us/step - loss: 0.0869 - recall_11: 0.4996 - accuracy: 0.4914 - val_loss: 0.6636 - val_recall_11: 0.0000e+00 - val_accuracy: 0.9299\n",
      "Epoch 5/10\n",
      "4375/4375 [==============================] - 3s 625us/step - loss: 0.0868 - recall_11: 0.4887 - accuracy: 0.5176 - val_loss: 0.6578 - val_recall_11: 0.0000e+00 - val_accuracy: 0.9299\n",
      "Epoch 6/10\n",
      "4375/4375 [==============================] - 3s 626us/step - loss: 0.0869 - recall_11: 0.5056 - accuracy: 0.4926 - val_loss: 0.5668 - val_recall_11: 0.0000e+00 - val_accuracy: 0.9299\n",
      "Epoch 7/10\n",
      "4375/4375 [==============================] - 3s 625us/step - loss: 0.0869 - recall_11: 0.5134 - accuracy: 0.4934 - val_loss: 0.7628 - val_recall_11: 1.0000 - val_accuracy: 0.0701\n",
      "Epoch 8/10\n",
      "4375/4375 [==============================] - 3s 625us/step - loss: 0.0868 - recall_11: 0.5021 - accuracy: 0.5009 - val_loss: 0.7697 - val_recall_11: 1.0000 - val_accuracy: 0.0701\n",
      "Epoch 9/10\n",
      "4375/4375 [==============================] - 3s 624us/step - loss: 0.0869 - recall_11: 0.5181 - accuracy: 0.4874 - val_loss: 0.7006 - val_recall_11: 1.0000 - val_accuracy: 0.0701\n",
      "Epoch 10/10\n",
      "4375/4375 [==============================] - 3s 624us/step - loss: 0.0868 - recall_11: 0.5241 - accuracy: 0.4860 - val_loss: 0.7661 - val_recall_11: 1.0000 - val_accuracy: 0.0701\n"
     ]
    },
    {
     "data": {
      "text/plain": [
       "<keras.callbacks.History at 0x7f97b15ff4f0>"
      ]
     },
     "execution_count": 46,
     "metadata": {},
     "output_type": "execute_result"
    }
   ],
   "source": [
    "model = Sequential()\n",
    "\n",
    "model.add(\n",
    "        Dense(100\n",
    "          , input_shape=(len(cols_x),) \n",
    "          , activation='relu'\n",
    "            )\n",
    "         )\n",
    "\n",
    "model.add(Dense(100, activation='relu'))\n",
    "model.add(Dense(1, activation='sigmoid'))\n",
    "\n",
    "recall = Recall()\n",
    "model.compile(loss='binary_crossentropy',\n",
    "              optimizer=tf.keras.optimizers.Adam(learning_rate=1e-1),\n",
    "              metrics=[recall, 'accuracy'])\n",
    "\n",
    "model.fit(x_train,df_train['SeriousDlqin2yrs'],epochs=10\n",
    "          , class_weight=class_weights\n",
    "          , validation_data=(x_val, df_val['SeriousDlqin2yrs']))"
   ]
  },
  {
   "cell_type": "code",
   "execution_count": 47,
   "id": "e2d2c90e",
   "metadata": {},
   "outputs": [
    {
     "name": "stdout",
     "output_type": "stream",
     "text": [
      "Epoch 1/10\n",
      "4375/4375 [==============================] - 3s 658us/step - loss: 0.0659 - recall_12: 0.6849 - accuracy: 0.7916 - val_loss: 0.4824 - val_recall_12: 0.6884 - val_accuracy: 0.8229\n",
      "Epoch 2/10\n",
      "4375/4375 [==============================] - 3s 633us/step - loss: 0.0632 - recall_12: 0.6922 - accuracy: 0.8137 - val_loss: 0.4472 - val_recall_12: 0.6538 - val_accuracy: 0.8430\n",
      "Epoch 3/10\n",
      "4375/4375 [==============================] - 3s 634us/step - loss: 0.0628 - recall_12: 0.6956 - accuracy: 0.8142 - val_loss: 0.5173 - val_recall_12: 0.7169 - val_accuracy: 0.7953\n",
      "Epoch 4/10\n",
      "4375/4375 [==============================] - 3s 633us/step - loss: 0.0624 - recall_12: 0.7052 - accuracy: 0.8116 - val_loss: 0.5519 - val_recall_12: 0.7230 - val_accuracy: 0.7939\n",
      "Epoch 5/10\n",
      "4375/4375 [==============================] - 3s 632us/step - loss: 0.0623 - recall_12: 0.7083 - accuracy: 0.8102 - val_loss: 0.4865 - val_recall_12: 0.7006 - val_accuracy: 0.8003\n",
      "Epoch 6/10\n",
      "4375/4375 [==============================] - 3s 632us/step - loss: 0.0621 - recall_12: 0.7102 - accuracy: 0.8077 - val_loss: 0.5049 - val_recall_12: 0.7006 - val_accuracy: 0.8054\n",
      "Epoch 7/10\n",
      "4375/4375 [==============================] - 3s 633us/step - loss: 0.0620 - recall_12: 0.7125 - accuracy: 0.8103 - val_loss: 0.5043 - val_recall_12: 0.7047 - val_accuracy: 0.8114\n",
      "Epoch 8/10\n",
      "4375/4375 [==============================] - 3s 632us/step - loss: 0.0619 - recall_12: 0.7097 - accuracy: 0.8097 - val_loss: 0.5072 - val_recall_12: 0.7026 - val_accuracy: 0.8131\n",
      "Epoch 9/10\n",
      "4375/4375 [==============================] - 3s 636us/step - loss: 0.0618 - recall_12: 0.7108 - accuracy: 0.8106 - val_loss: 0.4887 - val_recall_12: 0.7047 - val_accuracy: 0.8116\n",
      "Epoch 10/10\n",
      "4375/4375 [==============================] - 3s 635us/step - loss: 0.0618 - recall_12: 0.7125 - accuracy: 0.8092 - val_loss: 0.4420 - val_recall_12: 0.6782 - val_accuracy: 0.8337\n"
     ]
    },
    {
     "data": {
      "text/plain": [
       "<keras.callbacks.History at 0x7f97a54b8f70>"
      ]
     },
     "execution_count": 47,
     "metadata": {},
     "output_type": "execute_result"
    }
   ],
   "source": [
    "model = Sequential()\n",
    "\n",
    "model.add(\n",
    "        Dense(100\n",
    "          , input_shape=(len(cols_x),) \n",
    "          , activation='relu'\n",
    "            )\n",
    "         )\n",
    "\n",
    "model.add(Dense(100, activation='relu'))\n",
    "model.add(Dense(1, activation='sigmoid'))\n",
    "\n",
    "recall = Recall()\n",
    "model.compile(loss='binary_crossentropy',\n",
    "              optimizer=tf.keras.optimizers.Adam(learning_rate=1e-3),\n",
    "              metrics=[recall, 'accuracy'])\n",
    "\n",
    "model.fit(x_train,df_train['SeriousDlqin2yrs'],epochs=10\n",
    "          , class_weight=class_weights\n",
    "          , validation_data=(x_val, df_val['SeriousDlqin2yrs']))"
   ]
  },
  {
   "cell_type": "code",
   "execution_count": null,
   "id": "b02e3e83",
   "metadata": {},
   "outputs": [],
   "source": [
    "model.compile(loss='binary_crossentropy',\n",
    "              optimizer=tf.keras.optimizers.Adam(learning_rate=1e-1),\n",
    "              metrics=[recall])\n",
    "\n",
    "model.fit(x_train,df_train['SeriousDlqin2yrs'],epochs=10\n",
    "          , class_weight=class_weights\n",
    "          , validation_data=(x_val, df_val['SeriousDlqin2yrs']))"
   ]
  },
  {
   "cell_type": "markdown",
   "id": "0f639bd6",
   "metadata": {},
   "source": [
    "1e-2 it is"
   ]
  },
  {
   "cell_type": "markdown",
   "id": "761921ba",
   "metadata": {},
   "source": [
    "## Bigger network"
   ]
  },
  {
   "cell_type": "code",
   "execution_count": 48,
   "id": "0e903855",
   "metadata": {},
   "outputs": [
    {
     "name": "stdout",
     "output_type": "stream",
     "text": [
      "Epoch 1/10\n",
      "4375/4375 [==============================] - 4s 778us/step - loss: 0.0657 - recall_13: 0.6848 - accuracy: 0.7943 - val_loss: 0.5413 - val_recall_13: 0.7189 - val_accuracy: 0.7863\n",
      "Epoch 2/10\n",
      "4375/4375 [==============================] - 3s 742us/step - loss: 0.0633 - recall_13: 0.6934 - accuracy: 0.8116 - val_loss: 0.4554 - val_recall_13: 0.6741 - val_accuracy: 0.8379\n",
      "Epoch 3/10\n",
      "4375/4375 [==============================] - 3s 741us/step - loss: 0.0628 - recall_13: 0.6984 - accuracy: 0.8118 - val_loss: 0.5581 - val_recall_13: 0.7434 - val_accuracy: 0.7667\n",
      "Epoch 4/10\n",
      "4375/4375 [==============================] - 3s 741us/step - loss: 0.0625 - recall_13: 0.7097 - accuracy: 0.8033 - val_loss: 0.4894 - val_recall_13: 0.7312 - val_accuracy: 0.7796\n",
      "Epoch 5/10\n",
      "4375/4375 [==============================] - 3s 745us/step - loss: 0.0623 - recall_13: 0.7100 - accuracy: 0.8074 - val_loss: 0.4978 - val_recall_13: 0.7271 - val_accuracy: 0.7781\n",
      "Epoch 6/10\n",
      "4375/4375 [==============================] - 3s 745us/step - loss: 0.0622 - recall_13: 0.7186 - accuracy: 0.8032 - val_loss: 0.4725 - val_recall_13: 0.7067 - val_accuracy: 0.8037\n",
      "Epoch 7/10\n",
      "4375/4375 [==============================] - 3s 744us/step - loss: 0.0621 - recall_13: 0.7146 - accuracy: 0.8056 - val_loss: 0.5033 - val_recall_13: 0.7088 - val_accuracy: 0.8023\n",
      "Epoch 8/10\n",
      "4375/4375 [==============================] - 3s 743us/step - loss: 0.0620 - recall_13: 0.7104 - accuracy: 0.8087 - val_loss: 0.4801 - val_recall_13: 0.6823 - val_accuracy: 0.8317\n",
      "Epoch 9/10\n",
      "4375/4375 [==============================] - 3s 743us/step - loss: 0.0619 - recall_13: 0.7144 - accuracy: 0.8049 - val_loss: 0.4964 - val_recall_13: 0.7047 - val_accuracy: 0.8047\n",
      "Epoch 10/10\n",
      "4375/4375 [==============================] - 3s 743us/step - loss: 0.0617 - recall_13: 0.7198 - accuracy: 0.8038 - val_loss: 0.4408 - val_recall_13: 0.6782 - val_accuracy: 0.8354\n"
     ]
    },
    {
     "data": {
      "text/plain": [
       "<keras.callbacks.History at 0x7f97c7d87d00>"
      ]
     },
     "execution_count": 48,
     "metadata": {},
     "output_type": "execute_result"
    }
   ],
   "source": [
    "model = Sequential()\n",
    "\n",
    "model.add(\n",
    "        Dense(100\n",
    "          , input_shape=(len(cols_x),) \n",
    "          , activation='relu'\n",
    "            )\n",
    "         )\n",
    "\n",
    "model.add(Dense(100, activation='relu'))\n",
    "model.add(Dense(100, activation='relu'))\n",
    "model.add(Dense(1, activation='sigmoid'))\n",
    "\n",
    "recall = Recall()\n",
    "model.compile(loss='binary_crossentropy',\n",
    "              optimizer=tf.keras.optimizers.Adam(learning_rate=1e-3),\n",
    "              metrics=[recall, 'accuracy'])\n",
    "\n",
    "model.fit(x_train,df_train['SeriousDlqin2yrs'],epochs=10\n",
    "          , class_weight=class_weights\n",
    "          , validation_data=(x_val, df_val['SeriousDlqin2yrs']))"
   ]
  },
  {
   "cell_type": "code",
   "execution_count": 50,
   "id": "9474ed17",
   "metadata": {},
   "outputs": [
    {
     "name": "stdout",
     "output_type": "stream",
     "text": [
      "Epoch 1/10\n",
      "4375/4375 [==============================] - 4s 881us/step - loss: 0.0660 - recall_15: 0.6864 - accuracy: 0.7938 - val_loss: 0.4861 - val_recall_15: 0.6721 - val_accuracy: 0.8301\n",
      "Epoch 2/10\n",
      "4375/4375 [==============================] - 4s 854us/step - loss: 0.0633 - recall_15: 0.6963 - accuracy: 0.8070 - val_loss: 0.5659 - val_recall_15: 0.7658 - val_accuracy: 0.7413\n",
      "Epoch 3/10\n",
      "4375/4375 [==============================] - 4s 853us/step - loss: 0.0628 - recall_15: 0.7074 - accuracy: 0.8029 - val_loss: 0.5071 - val_recall_15: 0.6925 - val_accuracy: 0.8183\n",
      "Epoch 4/10\n",
      "4375/4375 [==============================] - 4s 852us/step - loss: 0.0626 - recall_15: 0.7083 - accuracy: 0.8054 - val_loss: 0.5419 - val_recall_15: 0.7230 - val_accuracy: 0.7777\n",
      "Epoch 5/10\n",
      "4375/4375 [==============================] - 4s 853us/step - loss: 0.0625 - recall_15: 0.7048 - accuracy: 0.8098 - val_loss: 0.5016 - val_recall_15: 0.7128 - val_accuracy: 0.8039\n",
      "Epoch 6/10\n",
      "4375/4375 [==============================] - 4s 855us/step - loss: 0.0622 - recall_15: 0.7133 - accuracy: 0.8069 - val_loss: 0.5304 - val_recall_15: 0.7536 - val_accuracy: 0.7611\n",
      "Epoch 7/10\n",
      "4375/4375 [==============================] - 4s 850us/step - loss: 0.0621 - recall_15: 0.7152 - accuracy: 0.8048 - val_loss: 0.4466 - val_recall_15: 0.7067 - val_accuracy: 0.8149\n",
      "Epoch 8/10\n",
      "4375/4375 [==============================] - 4s 851us/step - loss: 0.0621 - recall_15: 0.7173 - accuracy: 0.8028 - val_loss: 0.4591 - val_recall_15: 0.7047 - val_accuracy: 0.8099\n",
      "Epoch 9/10\n",
      "4375/4375 [==============================] - 4s 851us/step - loss: 0.0620 - recall_15: 0.7122 - accuracy: 0.8076 - val_loss: 0.5032 - val_recall_15: 0.6965 - val_accuracy: 0.8203\n",
      "Epoch 10/10\n",
      "4375/4375 [==============================] - 4s 851us/step - loss: 0.0619 - recall_15: 0.7113 - accuracy: 0.8094 - val_loss: 0.4678 - val_recall_15: 0.6986 - val_accuracy: 0.8100\n"
     ]
    },
    {
     "data": {
      "text/plain": [
       "<keras.callbacks.History at 0x7f97a7182f50>"
      ]
     },
     "execution_count": 50,
     "metadata": {},
     "output_type": "execute_result"
    }
   ],
   "source": [
    "model = Sequential()\n",
    "\n",
    "model.add(\n",
    "        Dense(100\n",
    "          , input_shape=(len(cols_x),) \n",
    "          , activation='relu'\n",
    "            )\n",
    "         )\n",
    "\n",
    "model.add(Dense(100, activation='relu'))\n",
    "model.add(Dense(100, activation='relu'))\n",
    "model.add(Dense(100, activation='relu'))\n",
    "model.add(Dense(1, activation='sigmoid'))\n",
    "\n",
    "recall = Recall()\n",
    "model.compile(loss='binary_crossentropy',\n",
    "              optimizer=tf.keras.optimizers.Adam(learning_rate=1e-3),\n",
    "              metrics=[recall, 'accuracy'])\n",
    "\n",
    "model.fit(x_train,df_train['SeriousDlqin2yrs'],epochs=10\n",
    "          , class_weight=class_weights\n",
    "          , validation_data=(x_val, df_val['SeriousDlqin2yrs']))"
   ]
  },
  {
   "cell_type": "markdown",
   "id": "316a8873",
   "metadata": {},
   "source": [
    "## Add batchNorm"
   ]
  },
  {
   "cell_type": "code",
   "execution_count": 53,
   "id": "e9f9e120",
   "metadata": {},
   "outputs": [
    {
     "name": "stdout",
     "output_type": "stream",
     "text": [
      "Epoch 1/10\n",
      "4375/4375 [==============================] - 8s 2ms/step - loss: 0.0685 - recall_17: 0.6931 - accuracy: 0.7598 - val_loss: 0.4752 - val_recall_17: 0.6090 - val_accuracy: 0.8646\n",
      "Epoch 2/10\n",
      "4375/4375 [==============================] - 7s 2ms/step - loss: 0.0651 - recall_17: 0.7009 - accuracy: 0.7894 - val_loss: 0.4998 - val_recall_17: 0.6986 - val_accuracy: 0.8019\n",
      "Epoch 3/10\n",
      "4375/4375 [==============================] - 7s 2ms/step - loss: 0.0640 - recall_17: 0.7013 - accuracy: 0.8018 - val_loss: 0.4621 - val_recall_17: 0.6415 - val_accuracy: 0.8619\n",
      "Epoch 4/10\n",
      "4375/4375 [==============================] - 7s 2ms/step - loss: 0.0636 - recall_17: 0.7045 - accuracy: 0.7998 - val_loss: 0.5626 - val_recall_17: 0.7821 - val_accuracy: 0.7457\n",
      "Epoch 5/10\n",
      "4375/4375 [==============================] - 7s 2ms/step - loss: 0.0628 - recall_17: 0.7108 - accuracy: 0.7987 - val_loss: 0.4905 - val_recall_17: 0.7047 - val_accuracy: 0.8149\n",
      "Epoch 6/10\n",
      "4375/4375 [==============================] - 7s 2ms/step - loss: 0.0623 - recall_17: 0.7144 - accuracy: 0.7997 - val_loss: 0.5285 - val_recall_17: 0.7373 - val_accuracy: 0.7604\n",
      "Epoch 7/10\n",
      "4375/4375 [==============================] - 7s 2ms/step - loss: 0.0617 - recall_17: 0.7306 - accuracy: 0.7938 - val_loss: 0.5647 - val_recall_17: 0.7312 - val_accuracy: 0.7814\n",
      "Epoch 8/10\n",
      "4375/4375 [==============================] - 7s 2ms/step - loss: 0.0606 - recall_17: 0.7480 - accuracy: 0.7890 - val_loss: 0.4291 - val_recall_17: 0.7067 - val_accuracy: 0.8186\n",
      "Epoch 9/10\n",
      "4375/4375 [==============================] - 7s 2ms/step - loss: 0.0601 - recall_17: 0.7576 - accuracy: 0.7867 - val_loss: 0.4620 - val_recall_17: 0.7515 - val_accuracy: 0.7933\n",
      "Epoch 10/10\n",
      "4375/4375 [==============================] - 7s 2ms/step - loss: 0.0598 - recall_17: 0.7594 - accuracy: 0.7843 - val_loss: 0.5262 - val_recall_17: 0.8106 - val_accuracy: 0.7689\n"
     ]
    },
    {
     "data": {
      "text/plain": [
       "<keras.callbacks.History at 0x7f974031d840>"
      ]
     },
     "execution_count": 53,
     "metadata": {},
     "output_type": "execute_result"
    }
   ],
   "source": [
    "model = Sequential()\n",
    "\n",
    "model.add(\n",
    "        Dense(200\n",
    "          , input_shape=(len(cols_x),) \n",
    "          , activation='relu'\n",
    "            )\n",
    "         )\n",
    "\n",
    "model.add(Dense(200, activation='relu'))\n",
    "model.add(tf.keras.layers.BatchNormalization())\n",
    "model.add(Dense(200, activation='relu'))\n",
    "model.add(tf.keras.layers.BatchNormalization())\n",
    "model.add(Dense(200, activation='relu'))\n",
    "model.add(tf.keras.layers.BatchNormalization())\n",
    "model.add(Dense(1, activation='sigmoid'))\n",
    "\n",
    "recall = Recall()\n",
    "model.compile(loss='binary_crossentropy',\n",
    "              optimizer=tf.keras.optimizers.Adam(learning_rate=1e-3),\n",
    "              metrics=[recall, 'accuracy'])\n",
    "\n",
    "model.fit(x_train,df_train['SeriousDlqin2yrs'],epochs=10\n",
    "          , class_weight=class_weights\n",
    "          , validation_data=(x_val, df_val['SeriousDlqin2yrs']))"
   ]
  },
  {
   "cell_type": "markdown",
   "id": "8d8aa853",
   "metadata": {},
   "source": [
    "## Adjust class weights"
   ]
  },
  {
   "cell_type": "code",
   "execution_count": 57,
   "id": "66ad88df",
   "metadata": {},
   "outputs": [],
   "source": [
    "class_weights = {0: 0.05, 1: 0.95}"
   ]
  },
  {
   "cell_type": "code",
   "execution_count": 58,
   "id": "b8be10a4",
   "metadata": {},
   "outputs": [
    {
     "name": "stdout",
     "output_type": "stream",
     "text": [
      "Epoch 1/10\n",
      "4375/4375 [==============================] - 7s 2ms/step - loss: 0.0598 - recall_19: 0.7566 - accuracy: 0.6830 - val_loss: 0.5116 - val_recall_19: 0.6680 - val_accuracy: 0.8231\n",
      "Epoch 2/10\n",
      "4375/4375 [==============================] - 7s 2ms/step - loss: 0.0565 - recall_19: 0.7627 - accuracy: 0.7247 - val_loss: 0.5635 - val_recall_19: 0.6802 - val_accuracy: 0.8259\n",
      "Epoch 3/10\n",
      "4375/4375 [==============================] - 7s 2ms/step - loss: 0.0558 - recall_19: 0.7673 - accuracy: 0.7275 - val_loss: 0.5685 - val_recall_19: 0.7373 - val_accuracy: 0.7687\n",
      "Epoch 4/10\n",
      "4375/4375 [==============================] - 7s 2ms/step - loss: 0.0552 - recall_19: 0.7699 - accuracy: 0.7326 - val_loss: 0.6053 - val_recall_19: 0.7862 - val_accuracy: 0.7007\n",
      "Epoch 5/10\n",
      "4375/4375 [==============================] - 7s 2ms/step - loss: 0.0550 - recall_19: 0.7753 - accuracy: 0.7340 - val_loss: 0.5625 - val_recall_19: 0.7210 - val_accuracy: 0.7866\n",
      "Epoch 6/10\n",
      "4375/4375 [==============================] - 7s 2ms/step - loss: 0.0542 - recall_19: 0.7815 - accuracy: 0.7315 - val_loss: 0.5897 - val_recall_19: 0.8045 - val_accuracy: 0.6877\n",
      "Epoch 7/10\n",
      "4375/4375 [==============================] - 7s 2ms/step - loss: 0.0532 - recall_19: 0.7994 - accuracy: 0.7285 - val_loss: 0.5877 - val_recall_19: 0.8045 - val_accuracy: 0.7554\n",
      "Epoch 8/10\n",
      "4375/4375 [==============================] - 7s 2ms/step - loss: 0.0526 - recall_19: 0.8086 - accuracy: 0.7263 - val_loss: 0.5976 - val_recall_19: 0.8493 - val_accuracy: 0.7210\n",
      "Epoch 9/10\n",
      "4375/4375 [==============================] - 7s 2ms/step - loss: 0.0522 - recall_19: 0.8147 - accuracy: 0.7276 - val_loss: 0.6415 - val_recall_19: 0.8717 - val_accuracy: 0.6526\n",
      "Epoch 10/10\n",
      "4375/4375 [==============================] - 7s 2ms/step - loss: 0.0520 - recall_19: 0.8128 - accuracy: 0.7318 - val_loss: 0.5615 - val_recall_19: 0.8473 - val_accuracy: 0.6960\n"
     ]
    },
    {
     "data": {
      "text/plain": [
       "<keras.callbacks.History at 0x7f9753033c70>"
      ]
     },
     "execution_count": 58,
     "metadata": {},
     "output_type": "execute_result"
    }
   ],
   "source": [
    "model = Sequential()\n",
    "\n",
    "model.add(\n",
    "        Dense(200\n",
    "          , input_shape=(len(cols_x),) \n",
    "          , activation='relu'\n",
    "            )\n",
    "         )\n",
    "\n",
    "model.add(Dense(200, activation='relu'))\n",
    "model.add(tf.keras.layers.BatchNormalization())\n",
    "model.add(Dense(200, activation='relu'))\n",
    "model.add(tf.keras.layers.BatchNormalization())\n",
    "model.add(Dense(200, activation='relu'))\n",
    "model.add(tf.keras.layers.BatchNormalization())\n",
    "model.add(Dense(1, activation='sigmoid'))\n",
    "\n",
    "recall = Recall()\n",
    "model.compile(loss='binary_crossentropy',\n",
    "              optimizer=tf.keras.optimizers.Adam(learning_rate=1e-3),\n",
    "              metrics=[recall, 'accuracy'])\n",
    "\n",
    "model.fit(x_train,df_train['SeriousDlqin2yrs'],epochs=10\n",
    "          , class_weight=class_weights\n",
    "          , validation_data=(x_val, df_val['SeriousDlqin2yrs']))"
   ]
  },
  {
   "cell_type": "markdown",
   "id": "82ba7d89",
   "metadata": {},
   "source": [
    "## More epochs"
   ]
  },
  {
   "cell_type": "code",
   "execution_count": 122,
   "id": "4a05e1a4",
   "metadata": {},
   "outputs": [
    {
     "name": "stdout",
     "output_type": "stream",
     "text": [
      "Epoch 1/15\n",
      "4375/4375 [==============================] - 7s 2ms/step - loss: 0.0598 - recall_25: 0.7590 - accuracy: 0.6781 - val_loss: 0.5112 - val_recall_25: 0.6741 - val_accuracy: 0.8260\n",
      "Epoch 2/15\n",
      "4375/4375 [==============================] - 7s 2ms/step - loss: 0.0567 - recall_25: 0.7602 - accuracy: 0.7233 - val_loss: 0.6585 - val_recall_25: 0.7862 - val_accuracy: 0.6840\n",
      "Epoch 3/15\n",
      "4375/4375 [==============================] - 7s 2ms/step - loss: 0.0560 - recall_25: 0.7637 - accuracy: 0.7340 - val_loss: 0.5545 - val_recall_25: 0.7047 - val_accuracy: 0.8109\n",
      "Epoch 4/15\n",
      "4375/4375 [==============================] - 7s 2ms/step - loss: 0.0553 - recall_25: 0.7728 - accuracy: 0.7307 - val_loss: 0.5567 - val_recall_25: 0.7189 - val_accuracy: 0.7951\n",
      "Epoch 5/15\n",
      "4375/4375 [==============================] - 7s 2ms/step - loss: 0.0550 - recall_25: 0.7687 - accuracy: 0.7406 - val_loss: 0.6458 - val_recall_25: 0.7984 - val_accuracy: 0.7001\n",
      "Epoch 6/15\n",
      "4375/4375 [==============================] - 7s 2ms/step - loss: 0.0545 - recall_25: 0.7761 - accuracy: 0.7394 - val_loss: 0.5853 - val_recall_25: 0.7923 - val_accuracy: 0.7141\n",
      "Epoch 7/15\n",
      "4375/4375 [==============================] - 7s 2ms/step - loss: 0.0536 - recall_25: 0.7913 - accuracy: 0.7361 - val_loss: 0.6055 - val_recall_25: 0.8289 - val_accuracy: 0.6936\n",
      "Epoch 8/15\n",
      "4375/4375 [==============================] - 7s 2ms/step - loss: 0.0528 - recall_25: 0.8048 - accuracy: 0.7304 - val_loss: 0.5704 - val_recall_25: 0.8289 - val_accuracy: 0.7163\n",
      "Epoch 9/15\n",
      "4375/4375 [==============================] - 7s 2ms/step - loss: 0.0522 - recall_25: 0.8164 - accuracy: 0.7294 - val_loss: 0.6080 - val_recall_25: 0.8615 - val_accuracy: 0.6756\n",
      "Epoch 10/15\n",
      "4375/4375 [==============================] - 8s 2ms/step - loss: 0.0520 - recall_25: 0.8149 - accuracy: 0.7264 - val_loss: 0.5973 - val_recall_25: 0.8269 - val_accuracy: 0.7174\n",
      "Epoch 11/15\n",
      "4375/4375 [==============================] - 7s 2ms/step - loss: 0.0517 - recall_25: 0.8212 - accuracy: 0.7321 - val_loss: 0.5136 - val_recall_25: 0.7943 - val_accuracy: 0.7669\n",
      "Epoch 12/15\n",
      "4375/4375 [==============================] - 7s 2ms/step - loss: 0.0518 - recall_25: 0.8154 - accuracy: 0.7355 - val_loss: 0.5711 - val_recall_25: 0.8248 - val_accuracy: 0.7503\n",
      "Epoch 13/15\n",
      "4375/4375 [==============================] - 7s 2ms/step - loss: 0.0516 - recall_25: 0.8193 - accuracy: 0.7320 - val_loss: 0.5980 - val_recall_25: 0.8269 - val_accuracy: 0.6974\n",
      "Epoch 14/15\n",
      "4375/4375 [==============================] - 7s 2ms/step - loss: 0.0515 - recall_25: 0.8215 - accuracy: 0.7275 - val_loss: 0.5755 - val_recall_25: 0.8330 - val_accuracy: 0.7249\n",
      "Epoch 15/15\n",
      "4375/4375 [==============================] - 7s 2ms/step - loss: 0.0514 - recall_25: 0.8217 - accuracy: 0.7348 - val_loss: 0.5103 - val_recall_25: 0.7943 - val_accuracy: 0.7760\n"
     ]
    },
    {
     "data": {
      "text/plain": [
       "<keras.callbacks.History at 0x7f9751a33a90>"
      ]
     },
     "execution_count": 122,
     "metadata": {},
     "output_type": "execute_result"
    }
   ],
   "source": [
    "model = Sequential()\n",
    "\n",
    "model.add(\n",
    "        Dense(200\n",
    "          , input_shape=(len(cols_x),) \n",
    "          , activation='relu'\n",
    "            )\n",
    "         )\n",
    "\n",
    "model.add(Dense(200, activation='relu'))\n",
    "model.add(tf.keras.layers.BatchNormalization())\n",
    "model.add(Dense(200, activation='relu'))\n",
    "model.add(tf.keras.layers.BatchNormalization())\n",
    "model.add(Dense(200, activation='relu'))\n",
    "model.add(tf.keras.layers.BatchNormalization())\n",
    "model.add(Dense(1, activation='sigmoid'))\n",
    "\n",
    "recall = Recall()\n",
    "model.compile(loss='binary_crossentropy',\n",
    "              optimizer=tf.keras.optimizers.Adam(learning_rate=1e-3),\n",
    "              metrics=[recall, 'accuracy'])\n",
    "\n",
    "model.fit(x_train,df_train['SeriousDlqin2yrs'],epochs=15\n",
    "          , class_weight=class_weights\n",
    "          , validation_data=(x_val, df_val['SeriousDlqin2yrs']))"
   ]
  },
  {
   "cell_type": "code",
   "execution_count": 123,
   "id": "ac87162a",
   "metadata": {},
   "outputs": [
    {
     "name": "stdout",
     "output_type": "stream",
     "text": [
      "INFO:tensorflow:Assets written to: models/keras_model/assets\n"
     ]
    }
   ],
   "source": [
    "model.save('models/keras_model')"
   ]
  },
  {
   "cell_type": "markdown",
   "id": "9c089020",
   "metadata": {},
   "source": [
    "# Test"
   ]
  },
  {
   "cell_type": "code",
   "execution_count": 124,
   "id": "2462bcdb",
   "metadata": {},
   "outputs": [
    {
     "data": {
      "text/html": [
       "<div>\n",
       "<style scoped>\n",
       "    .dataframe tbody tr th:only-of-type {\n",
       "        vertical-align: middle;\n",
       "    }\n",
       "\n",
       "    .dataframe tbody tr th {\n",
       "        vertical-align: top;\n",
       "    }\n",
       "\n",
       "    .dataframe thead th {\n",
       "        text-align: right;\n",
       "    }\n",
       "</style>\n",
       "<table border=\"1\" class=\"dataframe\">\n",
       "  <thead>\n",
       "    <tr style=\"text-align: right;\">\n",
       "      <th></th>\n",
       "      <th>SeriousDlqin2yrs</th>\n",
       "      <th>RevolvingUtilizationOfUnsecuredLines</th>\n",
       "      <th>age</th>\n",
       "      <th>NumberOfTime30-59DaysPastDueNotWorse</th>\n",
       "      <th>DebtRatio</th>\n",
       "      <th>MonthlyIncome</th>\n",
       "      <th>NumberOfOpenCreditLinesAndLoans</th>\n",
       "      <th>NumberOfTimes90DaysLate</th>\n",
       "      <th>NumberRealEstateLoansOrLines</th>\n",
       "      <th>NumberOfTime60-89DaysPastDueNotWorse</th>\n",
       "      <th>NumberOfDependents</th>\n",
       "    </tr>\n",
       "  </thead>\n",
       "  <tbody>\n",
       "    <tr>\n",
       "      <th>0</th>\n",
       "      <td>0</td>\n",
       "      <td>0.122890</td>\n",
       "      <td>75</td>\n",
       "      <td>0</td>\n",
       "      <td>0.064911</td>\n",
       "      <td>5884.0</td>\n",
       "      <td>3</td>\n",
       "      <td>0</td>\n",
       "      <td>0</td>\n",
       "      <td>0</td>\n",
       "      <td>0.0</td>\n",
       "    </tr>\n",
       "    <tr>\n",
       "      <th>1</th>\n",
       "      <td>0</td>\n",
       "      <td>0.917541</td>\n",
       "      <td>27</td>\n",
       "      <td>0</td>\n",
       "      <td>0.059415</td>\n",
       "      <td>5570.0</td>\n",
       "      <td>5</td>\n",
       "      <td>0</td>\n",
       "      <td>0</td>\n",
       "      <td>0</td>\n",
       "      <td>0.0</td>\n",
       "    </tr>\n",
       "    <tr>\n",
       "      <th>2</th>\n",
       "      <td>0</td>\n",
       "      <td>0.000000</td>\n",
       "      <td>66</td>\n",
       "      <td>0</td>\n",
       "      <td>0.000000</td>\n",
       "      <td>NaN</td>\n",
       "      <td>4</td>\n",
       "      <td>0</td>\n",
       "      <td>0</td>\n",
       "      <td>0</td>\n",
       "      <td>0.0</td>\n",
       "    </tr>\n",
       "    <tr>\n",
       "      <th>3</th>\n",
       "      <td>1</td>\n",
       "      <td>1.004183</td>\n",
       "      <td>33</td>\n",
       "      <td>0</td>\n",
       "      <td>1.151283</td>\n",
       "      <td>3000.0</td>\n",
       "      <td>12</td>\n",
       "      <td>0</td>\n",
       "      <td>3</td>\n",
       "      <td>1</td>\n",
       "      <td>0.0</td>\n",
       "    </tr>\n",
       "    <tr>\n",
       "      <th>4</th>\n",
       "      <td>1</td>\n",
       "      <td>0.745243</td>\n",
       "      <td>57</td>\n",
       "      <td>0</td>\n",
       "      <td>0.268780</td>\n",
       "      <td>3500.0</td>\n",
       "      <td>9</td>\n",
       "      <td>0</td>\n",
       "      <td>1</td>\n",
       "      <td>1</td>\n",
       "      <td>0.0</td>\n",
       "    </tr>\n",
       "  </tbody>\n",
       "</table>\n",
       "</div>"
      ],
      "text/plain": [
       "   SeriousDlqin2yrs  RevolvingUtilizationOfUnsecuredLines  age  \\\n",
       "0                 0                              0.122890   75   \n",
       "1                 0                              0.917541   27   \n",
       "2                 0                              0.000000   66   \n",
       "3                 1                              1.004183   33   \n",
       "4                 1                              0.745243   57   \n",
       "\n",
       "   NumberOfTime30-59DaysPastDueNotWorse  DebtRatio  MonthlyIncome  \\\n",
       "0                                     0   0.064911         5884.0   \n",
       "1                                     0   0.059415         5570.0   \n",
       "2                                     0   0.000000            NaN   \n",
       "3                                     0   1.151283         3000.0   \n",
       "4                                     0   0.268780         3500.0   \n",
       "\n",
       "   NumberOfOpenCreditLinesAndLoans  NumberOfTimes90DaysLate  \\\n",
       "0                                3                        0   \n",
       "1                                5                        0   \n",
       "2                                4                        0   \n",
       "3                               12                        0   \n",
       "4                                9                        0   \n",
       "\n",
       "   NumberRealEstateLoansOrLines  NumberOfTime60-89DaysPastDueNotWorse  \\\n",
       "0                             0                                     0   \n",
       "1                             0                                     0   \n",
       "2                             0                                     0   \n",
       "3                             3                                     1   \n",
       "4                             1                                     1   \n",
       "\n",
       "   NumberOfDependents  \n",
       "0                 0.0  \n",
       "1                 0.0  \n",
       "2                 0.0  \n",
       "3                 0.0  \n",
       "4                 0.0  "
      ]
     },
     "execution_count": 124,
     "metadata": {},
     "output_type": "execute_result"
    }
   ],
   "source": [
    "df_test = pd.read_csv('data/raw/test.csv')\n",
    "df_test.head()"
   ]
  },
  {
   "cell_type": "code",
   "execution_count": 125,
   "id": "66681e01",
   "metadata": {},
   "outputs": [],
   "source": [
    "with open('models/missings.pkl', 'rb') as handle:\n",
    "    miss_dict = pkl.load(handle)"
   ]
  },
  {
   "cell_type": "code",
   "execution_count": 126,
   "id": "fe782be8",
   "metadata": {},
   "outputs": [
    {
     "data": {
      "text/plain": [
       "{'MonthlyIncome': 5400.0, 'NumberOfDependents': 0.0}"
      ]
     },
     "execution_count": 126,
     "metadata": {},
     "output_type": "execute_result"
    }
   ],
   "source": [
    "miss_dict"
   ]
  },
  {
   "cell_type": "code",
   "execution_count": 127,
   "id": "2b088f27",
   "metadata": {},
   "outputs": [
    {
     "data": {
      "text/plain": [
       "SeriousDlqin2yrs                          0\n",
       "RevolvingUtilizationOfUnsecuredLines      0\n",
       "age                                       0\n",
       "NumberOfTime30-59DaysPastDueNotWorse      0\n",
       "DebtRatio                                 0\n",
       "MonthlyIncome                           624\n",
       "NumberOfOpenCreditLinesAndLoans           0\n",
       "NumberOfTimes90DaysLate                   0\n",
       "NumberRealEstateLoansOrLines              0\n",
       "NumberOfTime60-89DaysPastDueNotWorse      0\n",
       "NumberOfDependents                       77\n",
       "dtype: int64"
      ]
     },
     "execution_count": 127,
     "metadata": {},
     "output_type": "execute_result"
    }
   ],
   "source": [
    "df_test.isna().sum()"
   ]
  },
  {
   "cell_type": "code",
   "execution_count": 128,
   "id": "d57dc63b",
   "metadata": {},
   "outputs": [
    {
     "data": {
      "text/plain": [
       "SeriousDlqin2yrs                        0\n",
       "RevolvingUtilizationOfUnsecuredLines    0\n",
       "age                                     0\n",
       "NumberOfTime30-59DaysPastDueNotWorse    0\n",
       "DebtRatio                               0\n",
       "MonthlyIncome                           0\n",
       "NumberOfOpenCreditLinesAndLoans         0\n",
       "NumberOfTimes90DaysLate                 0\n",
       "NumberRealEstateLoansOrLines            0\n",
       "NumberOfTime60-89DaysPastDueNotWorse    0\n",
       "NumberOfDependents                      0\n",
       "isna_MonthlyIncome                      0\n",
       "isna_NumberOfDependents                 0\n",
       "dtype: int64"
      ]
     },
     "execution_count": 128,
     "metadata": {},
     "output_type": "execute_result"
    }
   ],
   "source": [
    "for k in miss_dict.keys():\n",
    "    df_test[f'isna_{k}'] = 0\n",
    "    df_test.loc[df_test[k].isna(), f'isna_{k}'] = True\n",
    "    df_test.loc[df_test[k].isna(), k] = miss_dict[k]\n",
    "    \n",
    "df_test.isna().sum()"
   ]
  },
  {
   "cell_type": "code",
   "execution_count": 129,
   "id": "053faea6",
   "metadata": {},
   "outputs": [],
   "source": [
    "x_test = scaler.transform(df_test[cols_x])"
   ]
  },
  {
   "cell_type": "code",
   "execution_count": 167,
   "id": "95b0830f",
   "metadata": {},
   "outputs": [
    {
     "name": "stdout",
     "output_type": "stream",
     "text": [
      "4375/4375 [==============================] - 4s 871us/step - loss: 0.5128 - recall_25: 0.7939 - accuracy: 0.7737\n",
      "Train recall: 0.793878436088562\n"
     ]
    }
   ],
   "source": [
    "print('Train recall:',\n",
    "    model.evaluate(x_train, df_train['SeriousDlqin2yrs'])[1]\n",
    "     )"
   ]
  },
  {
   "cell_type": "code",
   "execution_count": 168,
   "id": "2e91a0a1",
   "metadata": {},
   "outputs": [
    {
     "name": "stdout",
     "output_type": "stream",
     "text": [
      "219/219 [==============================] - 0s 776us/step - loss: 0.5103 - recall_25: 0.7943 - accuracy: 0.7760\n",
      "Validation recall: 0.7942973375320435\n"
     ]
    }
   ],
   "source": [
    "print('Validation recall:',\n",
    "    model.evaluate(x_val, df_val['SeriousDlqin2yrs'])[1]\n",
    "     )"
   ]
  },
  {
   "cell_type": "code",
   "execution_count": 169,
   "id": "9ae6fa95",
   "metadata": {},
   "outputs": [
    {
     "name": "stdout",
     "output_type": "stream",
     "text": [
      "94/94 [==============================] - 0s 807us/step - loss: 0.5262 - recall_25: 0.7382 - accuracy: 0.7610\n",
      "Test recall: 0.7382199168205261\n"
     ]
    }
   ],
   "source": [
    "print('Test recall:',\n",
    "    model.evaluate(x_test, df_test['SeriousDlqin2yrs'])[1]\n",
    "     )"
   ]
  },
  {
   "cell_type": "markdown",
   "id": "aa6c3ea3",
   "metadata": {},
   "source": [
    "# Save scaler"
   ]
  },
  {
   "cell_type": "code",
   "execution_count": 170,
   "id": "05439b4f",
   "metadata": {},
   "outputs": [],
   "source": [
    "with open('models/nn_scaler.pkl', 'wb') as handle:\n",
    "    pkl.dump(scaler, handle)"
   ]
  },
  {
   "cell_type": "code",
   "execution_count": null,
   "id": "cc34098e",
   "metadata": {},
   "outputs": [],
   "source": []
  }
 ],
 "metadata": {
  "kernelspec": {
   "display_name": "keras",
   "language": "python",
   "name": "keras"
  },
  "language_info": {
   "codemirror_mode": {
    "name": "ipython",
    "version": 3
   },
   "file_extension": ".py",
   "mimetype": "text/x-python",
   "name": "python",
   "nbconvert_exporter": "python",
   "pygments_lexer": "ipython3",
   "version": "3.10.4"
  }
 },
 "nbformat": 4,
 "nbformat_minor": 5
}
